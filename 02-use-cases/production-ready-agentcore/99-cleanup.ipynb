{
 "cells": [
  {
   "cell_type": "markdown",
   "metadata": {},
   "source": [
    "# Cleanup: Remove All Production Resources\n",
    "\n",
    "This notebook cleans up all resources created in the previous notebooks:\n",
    "- AgentCore Runtime and ECR repository (from notebook 2)\n",
    "- VPC infrastructure (from notebook 1)\n",
    "\n",
    "⚠️ **Warning**: This will permanently delete all resources. Make sure you want to proceed."
   ]
  },
  {
   "cell_type": "code",
   "execution_count": null,
   "metadata": {},
   "outputs": [],
   "source": [
    "import json\n",
    "import boto3\n",
    "import time\n",
    "from botocore.exceptions import ClientError\n",
    "\n",
    "# Load configuration files\n",
    "try:\n",
    "    with open('vpc_config.json', 'r') as f:\n",
    "        vpc_config = json.load(f)\n",
    "    print(\"✅ VPC configuration loaded\")\n",
    "except FileNotFoundError:\n",
    "    print(\"⚠️  VPC configuration not found\")\n",
    "    vpc_config = None\n",
    "\n",
    "try:\n",
    "    with open('deployment_info.json', 'r') as f:\n",
    "        deployment_info = json.load(f)\n",
    "    print(\"✅ Deployment information loaded\")\n",
    "except FileNotFoundError:\n",
    "    print(\"⚠️  Deployment information not found\")\n",
    "    deployment_info = None"
   ]
  },
  {
   "cell_type": "markdown",
   "metadata": {},
   "source": [
    "## 1. Cleanup AgentCore Runtime and ECR"
   ]
  },
  {
   "cell_type": "code",
   "execution_count": null,
   "metadata": {},
   "outputs": [],
   "source": [
    "if deployment_info:\n",
    "    region = deployment_info['region']\n",
    "    \n",
    "    # Initialize clients\n",
    "    agentcore_control_client = boto3.client('bedrock-agentcore-control', region_name=region)\n",
    "    ecr_client = boto3.client('ecr', region_name=region)\n",
    "    \n",
    "    print(\"🧹 Cleaning up AgentCore Runtime...\")\n",
    "    \n",
    "    # Delete AgentCore Runtime\n",
    "    try:\n",
    "        runtime_delete_response = agentcore_control_client.delete_agent_runtime(\n",
    "            agentRuntimeId=deployment_info['agent_id']\n",
    "        )\n",
    "        print(f\"✅ AgentCore Runtime deletion initiated: {deployment_info['agent_id']}\")\n",
    "    except ClientError as e:\n",
    "        print(f\"⚠️  Error deleting AgentCore Runtime: {e}\")\n",
    "    \n",
    "    # Delete ECR repository\n",
    "    try:\n",
    "        ecr_repo_name = deployment_info['ecr_uri'].split('/')[-1]\n",
    "        response = ecr_client.delete_repository(\n",
    "            repositoryName=ecr_repo_name,\n",
    "            force=True\n",
    "        )\n",
    "        print(f\"✅ ECR repository deleted: {ecr_repo_name}\")\n",
    "    except ClientError as e:\n",
    "        print(f\"⚠️  Error deleting ECR repository: {e}\")\n",
    "        \n",
    "else:\n",
    "    print(\"⏭️  No AgentCore deployment to cleanup\")"
   ]
  },
  {
   "cell_type": "markdown",
   "metadata": {},
   "source": [
    "## 2. Cleanup VPC Infrastructure"
   ]
  },
  {
   "cell_type": "code",
   "execution_count": null,
   "metadata": {},
   "outputs": [],
   "source": [
    "if vpc_config:\n",
    "    region = vpc_config['region']\n",
    "    ec2 = boto3.client('ec2', region_name=region)\n",
    "    \n",
    "    print(\"🧹 Cleaning up VPC infrastructure...\")\n",
    "    \n",
    "    # Delete VPC Endpoints\n",
    "    try:\n",
    "        endpoints = ec2.describe_vpc_endpoints(\n",
    "            Filters=[{'Name': 'vpc-id', 'Values': [vpc_config['vpc_id']]}]\n",
    "        )['VpcEndpoints']\n",
    "        \n",
    "        for endpoint in endpoints:\n",
    "            ec2.delete_vpc_endpoints(VpcEndpointIds=[endpoint['VpcEndpointId']])  # PLURAL and array\n",
    "            print(f\"✅ VPC Endpoint deleted: {endpoint['VpcEndpointId']}\")\n",
    "    except ClientError as e:\n",
    "        print(f\"⚠️  Error deleting VPC endpoints: {e}\")\n",
    "    \n",
    "    # Wait for endpoints to be deleted\n",
    "    print(\"⏳ Waiting for VPC endpoints to be deleted...\")\n",
    "    time.sleep(30)\n",
    "    \n",
    "else:\n",
    "    print(\"⏭️  No VPC configuration to cleanup\")\n",
    "    vpc_config = {}"
   ]
  },
  {
   "cell_type": "markdown",
   "metadata": {},
   "source": [
    "## 3. Delete NAT Gateways"
   ]
  },
  {
   "cell_type": "code",
   "execution_count": null,
   "metadata": {},
   "outputs": [],
   "source": [
    "if vpc_config and 'nat_gateways' in vpc_config:\n",
    "    print(\"🧹 Deleting NAT Gateways...\")\n",
    "    \n",
    "    for nat_name, nat_id in vpc_config['nat_gateways'].items():\n",
    "        try:\n",
    "            ec2.delete_nat_gateway(NatGatewayId=nat_id)\n",
    "            print(f\"✅ NAT Gateway deletion initiated: {nat_id}\")\n",
    "        except ClientError as e:\n",
    "            print(f\"⚠️  Error deleting NAT Gateway {nat_id}: {e}\")\n",
    "    \n",
    "    # Wait for NAT Gateways to be deleted\n",
    "    print(\"⏳ Waiting for NAT Gateways to be deleted...\")\n",
    "    time.sleep(60)\n",
    "else:\n",
    "    print(\"⏭️  No NAT Gateways to delete\")"
   ]
  },
  {
   "cell_type": "markdown",
   "metadata": {},
   "source": [
    "## 4. Delete Route Tables"
   ]
  },
  {
   "cell_type": "code",
   "execution_count": null,
   "metadata": {},
   "outputs": [],
   "source": [
    "if vpc_config and 'vpc_id' in vpc_config:\n",
    "    print(\"🧹 Deleting Route Tables...\")\n",
    "    \n",
    "    try:\n",
    "        # Get all route tables for the VPC\n",
    "        route_tables = ec2.describe_route_tables(\n",
    "            Filters=[{'Name': 'vpc-id', 'Values': [vpc_config['vpc_id']]}]\n",
    "        )['RouteTables']\n",
    "        \n",
    "        for rt in route_tables:\n",
    "            # Skip main route table\n",
    "            if not any(assoc.get('Main', False) for assoc in rt.get('Associations', [])):\n",
    "                rt_id = rt['RouteTableId']\n",
    "                \n",
    "                # First, disassociate from subnets\n",
    "                for assoc in rt.get('Associations', []):\n",
    "                    if 'SubnetId' in assoc and not assoc.get('Main', False):\n",
    "                        try:\n",
    "                            ec2.disassociate_route_table(\n",
    "                                AssociationId=assoc['RouteTableAssociationId']\n",
    "                            )\n",
    "                            print(f\"✅ Route table association removed: {assoc['RouteTableAssociationId']}\")\n",
    "                        except ClientError as e:\n",
    "                            print(f\"⚠️  Error removing association: {e}\")\n",
    "                \n",
    "                # Then delete the route table\n",
    "                try:\n",
    "                    ec2.delete_route_table(RouteTableId=rt_id)\n",
    "                    print(f\"✅ Route Table deleted: {rt_id}\")\n",
    "                except ClientError as e:\n",
    "                    print(f\"⚠️  Error deleting Route Table {rt_id}: {e}\")\n",
    "    except ClientError as e:\n",
    "        print(f\"⚠️  Error listing route tables: {e}\")\n",
    "else:\n",
    "    print(\"⏭️  No Route Tables to delete\")"
   ]
  },
  {
   "cell_type": "markdown",
   "metadata": {},
   "source": [
    "## 5. Delete Internet Gateway"
   ]
  },
  {
   "cell_type": "code",
   "execution_count": null,
   "metadata": {},
   "outputs": [],
   "source": [
    "if vpc_config and 'vpc_id' in vpc_config:\n",
    "    print(\"🧹 Deleting Internet Gateway...\")\n",
    "    \n",
    "    try:\n",
    "        # Get Internet Gateways attached to VPC\n",
    "        igws = ec2.describe_internet_gateways(\n",
    "            Filters=[{'Name': 'attachment.vpc-id', 'Values': [vpc_config['vpc_id']]}]\n",
    "        )['InternetGateways']\n",
    "        \n",
    "        for igw in igws:\n",
    "            igw_id = igw['InternetGatewayId']\n",
    "            # Detach from VPC\n",
    "            ec2.detach_internet_gateway(InternetGatewayId=igw_id, VpcId=vpc_config['vpc_id'])\n",
    "            # Delete IGW\n",
    "            ec2.delete_internet_gateway(InternetGatewayId=igw_id)\n",
    "            print(f\"✅ Internet Gateway deleted: {igw_id}\")\n",
    "    except ClientError as e:\n",
    "        print(f\"⚠️  Error deleting Internet Gateway: {e}\")\n",
    "else:\n",
    "    print(\"⏭️  No Internet Gateway to delete\")"
   ]
  },
  {
   "cell_type": "markdown",
   "metadata": {},
   "source": [
    "## 6. Delete Subnets"
   ]
  },
  {
   "cell_type": "code",
   "execution_count": null,
   "metadata": {},
   "outputs": [],
   "source": [
    "if vpc_config and 'subnets' in vpc_config:\n",
    "    print(\"🧹 Deleting Subnets...\")\n",
    "    \n",
    "    for subnet_name, subnet_id in vpc_config['subnets'].items():\n",
    "        try:\n",
    "            ec2.delete_subnet(SubnetId=subnet_id)\n",
    "            print(f\"✅ Subnet deleted: {subnet_id} ({subnet_name})\")\n",
    "        except ClientError as e:\n",
    "            print(f\"⚠️  Error deleting subnet {subnet_id}: {e}\")\n",
    "else:\n",
    "    print(\"⏭️  No Subnets to delete\")"
   ]
  },
  {
   "cell_type": "markdown",
   "metadata": {},
   "source": [
    "## 7. Delete Security Groups"
   ]
  },
  {
   "cell_type": "code",
   "execution_count": null,
   "metadata": {},
   "outputs": [],
   "source": [
    "if vpc_config and 'security_groups' in vpc_config:\n",
    "    print(\"🧹 Deleting Security Groups...\")\n",
    "    \n",
    "    for sg_name, sg_id in vpc_config['security_groups'].items():\n",
    "        try:\n",
    "            ec2.delete_security_group(GroupId=sg_id)\n",
    "            print(f\"✅ Security Group deleted: {sg_id} ({sg_name})\")\n",
    "        except ClientError as e:\n",
    "            print(f\"⚠️  Error deleting security group {sg_id}: {e}\")\n",
    "else:\n",
    "    print(\"⏭️  No Security Groups to delete\")"
   ]
  },
  {
   "cell_type": "markdown",
   "metadata": {},
   "source": [
    "## 8. Delete VPC"
   ]
  },
  {
   "cell_type": "code",
   "execution_count": null,
   "metadata": {},
   "outputs": [],
   "source": [
    "if vpc_config and 'vpc_id' in vpc_config:\n",
    "    print(\"🧹 Deleting VPC...\")\n",
    "    \n",
    "    try:\n",
    "        ec2.delete_vpc(VpcId=vpc_config['vpc_id'])\n",
    "        print(f\"✅ VPC deleted: {vpc_config['vpc_id']}\")\n",
    "    except ClientError as e:\n",
    "        print(f\"⚠️  Error deleting VPC: {e}\")\n",
    "else:\n",
    "    print(\"⏭️  No VPC to delete\")"
   ]
  },
  {
   "cell_type": "markdown",
   "metadata": {},
   "source": [
    "## 9. Release Elastic IPs"
   ]
  },
  {
   "cell_type": "code",
   "execution_count": null,
   "metadata": {},
   "outputs": [],
   "source": [
    "if vpc_config and 'project_name' in vpc_config:\n",
    "    print(\"🧹 Releasing Elastic IPs...\")\n",
    "    \n",
    "    try:\n",
    "        # Get all EIPs with project tag\n",
    "        addresses = ec2.describe_addresses(\n",
    "            Filters=[{'Name': 'tag:Project', 'Values': [vpc_config['project_name']]}]\n",
    "        )['Addresses']\n",
    "        \n",
    "        for addr in addresses:\n",
    "            if 'AllocationId' in addr:\n",
    "                ec2.release_address(AllocationId=addr['AllocationId'])\n",
    "                print(f\"✅ Elastic IP released: {addr['AllocationId']}\")\n",
    "    except ClientError as e:\n",
    "        print(f\"⚠️  Error releasing Elastic IPs: {e}\")\n",
    "else:\n",
    "    print(\"⏭️  No Elastic IPs to release\")"
   ]
  },
  {
   "cell_type": "markdown",
   "metadata": {},
   "source": [
    "## 10. Cleanup Configuration Files"
   ]
  },
  {
   "cell_type": "code",
   "execution_count": null,
   "metadata": {},
   "outputs": [],
   "source": [
    "import os\n",
    "\n",
    "print(\"🧹 Cleaning up configuration files...\")\n",
    "\n",
    "files_to_remove = [\n",
    "    'vpc_config.json',\n",
    "    'deployment_info.json',\n",
    "    'deployment_config.json',\n",
    "    'production_agent.py',\n",
    "    'deploy_commands.sh'\n",
    "]\n",
    "\n",
    "for file_name in files_to_remove:\n",
    "    try:\n",
    "        if os.path.exists(file_name):\n",
    "            os.remove(file_name)\n",
    "            print(f\"✅ File removed: {file_name}\")\n",
    "        else:\n",
    "            print(f\"⏭️  File not found: {file_name}\")\n",
    "    except Exception as e:\n",
    "        print(f\"⚠️  Error removing {file_name}: {e}\")"
   ]
  },
  {
   "cell_type": "markdown",
   "metadata": {},
   "source": [
    "## Summary"
   ]
  },
  {
   "cell_type": "code",
   "execution_count": null,
   "metadata": {},
   "outputs": [],
   "source": [
    "print(\"\\n🎉 Cleanup completed!\")\n",
    "print(\"\\nResources cleaned up:\")\n",
    "print(\"✅ AgentCore Runtime and ECR repository\")\n",
    "print(\"✅ VPC Endpoints\")\n",
    "print(\"✅ NAT Gateways and Elastic IPs\")\n",
    "print(\"✅ Route Tables\")\n",
    "print(\"✅ Internet Gateway\")\n",
    "print(\"✅ Subnets\")\n",
    "print(\"✅ Security Groups\")\n",
    "print(\"✅ VPC\")\n",
    "print(\"✅ Configuration files\")\n",
    "print(\"\\n💡 All production resources have been removed.\")"
   ]
  }
 ],
 "metadata": {
  "kernelspec": {
   "display_name": "Python 3",
   "language": "python",
   "name": "python3"
  },
  "language_info": {
   "codemirror_mode": {
    "name": "ipython",
    "version": 3
   },
   "file_extension": ".py",
   "mimetype": "text/x-python",
   "name": "python",
   "nbconvert_exporter": "python",
   "pygments_lexer": "ipython3",
   "version": "3.13.7"
  }
 },
 "nbformat": 4,
 "nbformat_minor": 4
}